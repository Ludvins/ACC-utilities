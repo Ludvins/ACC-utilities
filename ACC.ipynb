{
 "cells": [
  {
   "cell_type": "markdown",
   "metadata": {},
   "source": [
    "## Utilidades"
   ]
  },
  {
   "cell_type": "code",
   "execution_count": 1,
   "metadata": {},
   "outputs": [],
   "source": [
    "# Devuelve el exponente lider del polinomio f\n",
    "def exp(f):\n",
    "    return f.exponents()[0]"
   ]
  },
  {
   "cell_type": "code",
   "execution_count": 2,
   "metadata": {},
   "outputs": [],
   "source": [
    "# Devuelve el maximo en cada posición de alpha y beta\n",
    "def lcm(alpha, beta):\n",
    "    return alpha.emax(beta)"
   ]
  },
  {
   "cell_type": "code",
   "execution_count": 3,
   "metadata": {},
   "outputs": [],
   "source": [
    "# Calcula el S-polinomio de f y g en R\n",
    "def S(R, f, g):\n",
    "    alpha = exp(f)\n",
    "    beta = exp(g)\n",
    "    gamma = lcm(alpha, beta)\n",
    "    delta1 = gamma.esub(alpha)\n",
    "    delta2 = gamma.esub(beta)\n",
    "    return g.lc() * R.monomial(*delta1) * f - f.lc() * R.monomial(*delta2) * g"
   ]
  },
  {
   "cell_type": "markdown",
   "metadata": {},
   "source": [
    "## Algoritmo de división\n"
   ]
  },
  {
   "cell_type": "code",
   "execution_count": 4,
   "metadata": {},
   "outputs": [],
   "source": [
    "# Divide f entre F en R, devuelve los coef y el resto\n",
    "def division(R, f, F):\n",
    "    # Polinomio actual\n",
    "    p = f\n",
    "    # Resto\n",
    "    r = 0\n",
    "    # Nº de polinomios\n",
    "    s = len(F)\n",
    "    # Coeficientes (q_i)\n",
    "    Q = []\n",
    "    for i in range(s):\n",
    "        Q.append(0)\n",
    "    # Hasta que p sea 0\n",
    "    while p != 0:\n",
    "        i = 0\n",
    "        step = 0\n",
    "        # Si se puede dividir por algun f_i\n",
    "        while i < s and step == 0:\n",
    "            # Calculamos gamma (exp(p) = exp(f_i) + gamma)\n",
    "            gamma = exp(p).esub(exp(F[i]))\n",
    "            # Gamma debe tener todas las posiciones no negativas\n",
    "            if all(map(lambda x : x >= 0, gamma)):\n",
    "                # Coef\n",
    "                coef = p.lc() / F[i].lc()\n",
    "                # Actualizamos q_i y p\n",
    "                Q[i] += coef * R.monomial(*gamma)\n",
    "                p -= coef * R.monomial(*gamma) * F[i]\n",
    "                step = 1\n",
    "            else:\n",
    "                i += 1\n",
    "        # Si no es divisible entre ningun f_i añadimos al resto\n",
    "        if step == 0:\n",
    "            r += p.lt()\n",
    "            p -= p.lt()\n",
    "    return r, Q"
   ]
  },
  {
   "cell_type": "markdown",
   "metadata": {},
   "source": [
    "Ejemplo:"
   ]
  },
  {
   "cell_type": "code",
   "execution_count": 5,
   "metadata": {},
   "outputs": [
    {
     "name": "stdout",
     "output_type": "stream",
     "text": [
      "(2*x + 1, [x + 1, x])\n",
      "(x + y + 1, [x + y, 1])\n"
     ]
    }
   ],
   "source": [
    "R.<x,y> = PolynomialRing(QQ, [\"x\", \"y\"], order = \"lex\")\n",
    "f = x^2*y+x*y^2+y^2\n",
    "f1 = x*y-1\n",
    "f2 = y^2-1\n",
    "print(division(R, f, [f2, f1]))\n",
    "print(division(R, f, [f1, f2]))"
   ]
  },
  {
   "cell_type": "markdown",
   "metadata": {},
   "source": [
    "## Comprobar si un polinomio pertenece a un ideal"
   ]
  },
  {
   "cell_type": "code",
   "execution_count": 6,
   "metadata": {},
   "outputs": [],
   "source": [
    "# Si un polinomio f pertenece a un ideal I en R\n",
    "def check_in_ideal(R, f, I):\n",
    "    # Otras alternativas\n",
    "    # -------------------\n",
    "    # f in I\n",
    "    # I.reduce(f) == 0\n",
    "    # -------------------\n",
    "    # Base de groebner\n",
    "    B = I.groebner_basis()\n",
    "    r, _ = division(R, f, B)\n",
    "    return r == 0"
   ]
  },
  {
   "cell_type": "markdown",
   "metadata": {},
   "source": [
    "Ejemplo:"
   ]
  },
  {
   "cell_type": "code",
   "execution_count": 7,
   "metadata": {},
   "outputs": [
    {
     "name": "stdout",
     "output_type": "stream",
     "text": [
      "False\n",
      "True\n"
     ]
    }
   ],
   "source": [
    "R.<x,y> = PolynomialRing(QQ, [\"x\", \"y\"], order = \"lex\")\n",
    "f = x^2*y^2 + x^2*y - y + 1\n",
    "I = R.ideal([x*y^2 + x, x*y-y^3])\n",
    "print(check_in_ideal(R, f, I))\n",
    "print(check_in_ideal(R, I.groebner_basis()[0], I))"
   ]
  },
  {
   "cell_type": "markdown",
   "metadata": {},
   "source": [
    "## Criterio de Buchberger"
   ]
  },
  {
   "cell_type": "code",
   "execution_count": 8,
   "metadata": {},
   "outputs": [],
   "source": [
    "# Comprueba si el conjunto de generadores G es base de Groebner en R\n",
    "def criterio_buchberger(R, G):\n",
    "    t = len(G)\n",
    "    for i in range(t):\n",
    "        for j in range(i + 1, t):\n",
    "            # G base de Groebner sii rem(S(g_i, g_j), G) = 0\n",
    "            r, _ = division(R, S(R, G[i], G[j]), G)\n",
    "            if r != 0:\n",
    "                return false\n",
    "    return true"
   ]
  },
  {
   "cell_type": "code",
   "execution_count": 9,
   "metadata": {},
   "outputs": [
    {
     "name": "stdout",
     "output_type": "stream",
     "text": [
      "True\n",
      "False\n"
     ]
    }
   ],
   "source": [
    "R.<x,y,z> = PolynomialRing(QQ, [\"x\", \"y\", \"z\"], order = \"lex\")\n",
    "I = R.ideal([x*y^2 + x*y, y^5, y*z^4, x^2*y*z])\n",
    "print(criterio_buchberger(R, I.groebner_basis()))\n",
    "print(criterio_buchberger(R, [x*y^2 + x*y, y^5, y*z^4, x^2*y*z]))"
   ]
  },
  {
   "cell_type": "markdown",
   "metadata": {},
   "source": [
    "## Algoritmo de Buchberger (obtener base de Groebner)"
   ]
  },
  {
   "cell_type": "code",
   "execution_count": 10,
   "metadata": {},
   "outputs": [],
   "source": [
    "# Calcula una basa de Groebner para el ideal generado por F en R\n",
    "def algoritmo_buchberger(R, F):\n",
    "    G = F\n",
    "    while true:\n",
    "        G_prime = G\n",
    "        for i in range(len(G_prime)):\n",
    "            for j in range(len(G_prime)):\n",
    "                if i != j:\n",
    "                    r, _ = division(R, S(R, G_prime[i], G_prime[j]), G_prime)\n",
    "                    if r != 0:\n",
    "                        G.append(r)\n",
    "        if G_prime == G:\n",
    "            break\n",
    "    return G    "
   ]
  },
  {
   "cell_type": "code",
   "execution_count": 90,
   "metadata": {},
   "outputs": [
    {
     "name": "stdout",
     "output_type": "stream",
     "text": [
      "[x^2*y - 1, x*y^2 - x, x^2 - y, y^3 - y]\n",
      "False\n",
      "[y^2 - 1, x^2 - y]\n",
      "[x^2 - y, y^2 - 1]\n"
     ]
    }
   ],
   "source": [
    "R.<x,y> = PolynomialRing(QQ, [\"x\", \"y\"], order = \"lex\")\n",
    "F = [x^2*y - 1, x*y^2 - x]\n",
    "B = algoritmo_buchberger(R,F)\n",
    "print(B)\n",
    "print(criterio_buchberger(R, B))\n",
    "print(groebner_reducida(R, B))\n",
    "print(R.ideal(F).groebner_basis())"
   ]
  },
  {
   "cell_type": "markdown",
   "metadata": {},
   "source": [
    "## Base de Groebner reducida"
   ]
  },
  {
   "cell_type": "code",
   "execution_count": 105,
   "metadata": {},
   "outputs": [],
   "source": [
    "def groebner_reducida(R, G):\n",
    "    i = 0\n",
    "    for _ in range(len(G)):\n",
    "        # rem(g, [G \\ {g}])\n",
    "        r, Q = division(R, G[i], G[:i] + G[i+1:])\n",
    "        # Si r != 0, lo añadimos\n",
    "        if r != 0:\n",
    "            # lc(r) = 1\n",
    "            r /= r.lc()\n",
    "            G =  G[:i] + [r] + G[i+1:]\n",
    "            i += 1\n",
    "        # Si r == 0, lo descartamos\n",
    "        else:\n",
    "            G = G[:i] + G[i+1:]\n",
    "    return G"
   ]
  },
  {
   "cell_type": "code",
   "execution_count": 106,
   "metadata": {},
   "outputs": [
    {
     "name": "stdout",
     "output_type": "stream",
     "text": [
      "[x^2*y - 1, x*y^2 - x, x^2 - y, y^3 - y]\n",
      "[y^2 - 1, x^2 - y]\n",
      "[x^2 - y, y^2 - 1]\n"
     ]
    }
   ],
   "source": [
    "R.<x,y,z> = PolynomialRing(QQ, [\"x\", \"y\", \"z\"], order = \"lex\")\n",
    "F = [x^2*y - 1, x*y^2 - x]\n",
    "B = algoritmo_buchberger(R,F)\n",
    "print(B)\n",
    "print(groebner_reducida(R,B))\n",
    "print(R.ideal(F).groebner_basis())"
   ]
  },
  {
   "cell_type": "code",
   "execution_count": 107,
   "metadata": {},
   "outputs": [
    {
     "name": "stdout",
     "output_type": "stream",
     "text": [
      "[x - 2*y + 2*w, z + 3*w]\n",
      "[x - 2*y + 2*w, z + 3*w]\n"
     ]
    }
   ],
   "source": [
    "R.<x,y,z,w> = PolynomialRing(QQ, [\"x\", \"y\", \"z\", \"w\"], order = \"lex\")\n",
    "F = [3*x-6*y-2*z, 2*x-4*y+4*w, x-2*y-z-w]\n",
    "B = algoritmo_buchberger(R,F)\n",
    "print(groebner_reducida(R, B))\n",
    "print(R.ideal(F).groebner_basis())"
   ]
  },
  {
   "cell_type": "code",
   "execution_count": null,
   "metadata": {},
   "outputs": [],
   "source": []
  }
 ],
 "metadata": {
  "kernelspec": {
   "display_name": "SageMath 8.9",
   "language": "sage",
   "name": "sagemath"
  },
  "language_info": {
   "codemirror_mode": {
    "name": "ipython",
    "version": 2
   },
   "file_extension": ".py",
   "mimetype": "text/x-python",
   "name": "python",
   "nbconvert_exporter": "python",
   "pygments_lexer": "ipython2",
   "version": "2.7.15"
  }
 },
 "nbformat": 4,
 "nbformat_minor": 2
}
